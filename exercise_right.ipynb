{
 "cells": [
  {
   "cell_type": "code",
   "execution_count": 24,
   "id": "8b8d37e0",
   "metadata": {},
   "outputs": [],
   "source": [
    "import re"
   ]
  },
  {
   "cell_type": "code",
   "execution_count": 25,
   "id": "c8ed2f56",
   "metadata": {},
   "outputs": [],
   "source": [
    "text = '''Follow our leader Elon musk on Twitter \n",
    "here: <a href=\"https://twitter.com/elonmusk\" rel=\"nofollow\">https://twitter.com/elonmusk</a>, more information \n",
    "on Tesla's products can be found at <a href=\"https://www.tesla.com/\" rel=\"nofollow\">https://www.tesla.com/</a>. \n",
    "Also here are leading influencers for tesla-related news, \n",
    "<a href=\"https://twitter.com/teslarati\" rel=\"nofollow\">https://twitter.com/teslarati</a>\n",
    "<a href=\"https://twitter.com/dummy_tesla\" rel=\"nofollow\">https://twitter.com/dummy_tesla</a>\n",
    "<a href=\"https://twitter.com/dummy_2_tesla\" rel=\"nofollow\">https://twitter.com/dummy_2_tesla</a>'''"
   ]
  },
  {
   "cell_type": "code",
   "execution_count": 26,
   "id": "d8d2ffca",
   "metadata": {},
   "outputs": [
    {
     "data": {
      "text/plain": [
       "'elonmusk'"
      ]
     },
     "execution_count": 26,
     "metadata": {},
     "output_type": "execute_result"
    }
   ],
   "source": [
    "pattern = '''https://twitter.com/([a-zA-Z0-9_]+)\\\"'''\n",
    "match = re.findall(pattern, text, flags=re.DOTALL)\n",
    "match[0].strip()"
   ]
  },
  {
   "cell_type": "code",
   "execution_count": null,
   "id": "5e7cd63d",
   "metadata": {},
   "outputs": [],
   "source": []
  }
 ],
 "metadata": {
  "kernelspec": {
   "display_name": "Python 3 (ipykernel)",
   "language": "python",
   "name": "python3"
  },
  "language_info": {
   "codemirror_mode": {
    "name": "ipython",
    "version": 3
   },
   "file_extension": ".py",
   "mimetype": "text/x-python",
   "name": "python",
   "nbconvert_exporter": "python",
   "pygments_lexer": "ipython3",
   "version": "3.10.6"
  }
 },
 "nbformat": 4,
 "nbformat_minor": 5
}
