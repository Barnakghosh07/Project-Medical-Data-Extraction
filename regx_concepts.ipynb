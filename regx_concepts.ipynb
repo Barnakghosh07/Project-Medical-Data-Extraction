{
 "cells": [
  {
   "cell_type": "code",
   "execution_count": 1,
   "id": "353fb2c5",
   "metadata": {},
   "outputs": [],
   "source": [
    "import re"
   ]
  },
  {
   "cell_type": "markdown",
   "id": "763a4409",
   "metadata": {},
   "source": [
    "Extract all numbers from text"
   ]
  },
  {
   "cell_type": "code",
   "execution_count": 3,
   "id": "c385ed57",
   "metadata": {},
   "outputs": [
    {
     "data": {
      "text/plain": [
       "['98008900337', '120']"
      ]
     },
     "execution_count": 3,
     "metadata": {},
     "output_type": "execute_result"
    }
   ],
   "source": [
    "text = \"Patient's phone is 98008900337. Bill amount is 120 $\"\n",
    "\n",
    "pattern = '\\d+'\n",
    "\n",
    "match = re.findall(pattern, text)\n",
    "match"
   ]
  },
  {
   "cell_type": "markdown",
   "id": "2b316134",
   "metadata": {},
   "source": [
    "Extract only phone number. Phone number is always 10 digits."
   ]
  },
  {
   "cell_type": "code",
   "execution_count": 4,
   "id": "cb8e5a56",
   "metadata": {},
   "outputs": [
    {
     "data": {
      "text/plain": [
       "['9800890033']"
      ]
     },
     "execution_count": 4,
     "metadata": {},
     "output_type": "execute_result"
    }
   ],
   "source": [
    "text = \"Patient's phone is 98008900337. Bill amount is 120 $\"\n",
    "\n",
    "pattern = '\\d{10}'\n",
    "\n",
    "match = re.findall(pattern, text)\n",
    "match"
   ]
  },
  {
   "cell_type": "markdown",
   "id": "754187f1",
   "metadata": {},
   "source": [
    "Extract phone number, which is either 10 continuous digits or follow this fromat(xxx)-xxx-xxxx"
   ]
  },
  {
   "cell_type": "code",
   "execution_count": 6,
   "id": "b91116d1",
   "metadata": {},
   "outputs": [
    {
     "data": {
      "text/plain": [
       "['(773)-111-9999', '9800890337']"
      ]
     },
     "execution_count": 6,
     "metadata": {},
     "output_type": "execute_result"
    }
   ],
   "source": [
    "text = \"Patient's phone is (773)-111-9999, spouse phone number 9800890337. Bill amount is 120 $\"\n",
    "\n",
    "pattern = \"\\(\\d{3}\\)-\\d{3}-\\d{4}|\\d{10}\"\n",
    "\n",
    "match = re.findall(pattern, text)\n",
    "match"
   ]
  },
  {
   "cell_type": "markdown",
   "id": "ad17ae1c",
   "metadata": {},
   "source": [
    "Extract phone number and bill amount seprately"
   ]
  },
  {
   "cell_type": "code",
   "execution_count": 9,
   "id": "38850386",
   "metadata": {},
   "outputs": [
    {
     "data": {
      "text/plain": [
       "<re.Match object; span=(19, 50), match='9800890337. Bill amount is 120$'>"
      ]
     },
     "execution_count": 9,
     "metadata": {},
     "output_type": "execute_result"
    }
   ],
   "source": [
    "text = \"Patient's phone is 9800890337. Bill amount is 120$\"\n",
    "\n",
    "pattern = '(\\d{10})\\D+(\\d+)\\$'\n",
    "\n",
    "match = re.search(pattern, text)\n",
    "match"
   ]
  },
  {
   "cell_type": "code",
   "execution_count": 11,
   "id": "2f146def",
   "metadata": {},
   "outputs": [],
   "source": [
    "phone_number, bill_amount = match.groups()"
   ]
  },
  {
   "cell_type": "code",
   "execution_count": 12,
   "id": "ff19ddb4",
   "metadata": {},
   "outputs": [
    {
     "data": {
      "text/plain": [
       "'9800890337'"
      ]
     },
     "execution_count": 12,
     "metadata": {},
     "output_type": "execute_result"
    }
   ],
   "source": [
    "phone_number"
   ]
  },
  {
   "cell_type": "code",
   "execution_count": 13,
   "id": "4290d3e0",
   "metadata": {},
   "outputs": [
    {
     "data": {
      "text/plain": [
       "'120'"
      ]
     },
     "execution_count": 13,
     "metadata": {},
     "output_type": "execute_result"
    }
   ],
   "source": [
    "bill_amount"
   ]
  },
  {
   "cell_type": "code",
   "execution_count": null,
   "id": "5cbe1c1d",
   "metadata": {},
   "outputs": [],
   "source": []
  }
 ],
 "metadata": {
  "kernelspec": {
   "display_name": "Python 3 (ipykernel)",
   "language": "python",
   "name": "python3"
  },
  "language_info": {
   "codemirror_mode": {
    "name": "ipython",
    "version": 3
   },
   "file_extension": ".py",
   "mimetype": "text/x-python",
   "name": "python",
   "nbconvert_exporter": "python",
   "pygments_lexer": "ipython3",
   "version": "3.10.6"
  }
 },
 "nbformat": 4,
 "nbformat_minor": 5
}
