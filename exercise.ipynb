{
 "cells": [
  {
   "cell_type": "code",
   "execution_count": 13,
   "id": "7601be23",
   "metadata": {},
   "outputs": [],
   "source": [
    "import re"
   ]
  },
  {
   "cell_type": "code",
   "execution_count": 16,
   "id": "a730259f",
   "metadata": {},
   "outputs": [],
   "source": [
    "text = '''Follow our leader Elon musk on Twitter \n",
    "here: <a href=\"https://twitter.com/elonmusk\" rel=\"nofollow\">https://twitter.com/elonmusk</a>, more information \n",
    "on Tesla's products can be found at <a href=\"https://www.tesla.com/\" rel=\"nofollow\">https://www.tesla.com/</a>. \n",
    "Also here are leading influencers for tesla-related news, \n",
    "<a href=\"https://twitter.com/teslarati\" rel=\"nofollow\">https://twitter.com/teslarati</a>\n",
    "<a href=\"https://twitter.com/dummy_tesla\" rel=\"nofollow\">https://twitter.com/dummy_tesla</a>\n",
    "<a href=\"https://twitter.com/dummy_2_tesla\" rel=\"nofollow\">https://twitter.com/dummy_2_tesla</a>'''"
   ]
  },
  {
   "cell_type": "code",
   "execution_count": 17,
   "id": "3419e4d4",
   "metadata": {},
   "outputs": [
    {
     "name": "stdout",
     "output_type": "stream",
     "text": [
      "elonmusk\n"
     ]
    }
   ],
   "source": [
    "pattern = \"https:\\/\\/twitter.com\\/([a-zA-Z0-9_]+)\"\n",
    "match = re.findall(pattern, text)\n",
    "print(match[0].strip())"
   ]
  },
  {
   "cell_type": "code",
   "execution_count": null,
   "id": "ce323322",
   "metadata": {},
   "outputs": [],
   "source": []
  }
 ],
 "metadata": {
  "kernelspec": {
   "display_name": "Python 3 (ipykernel)",
   "language": "python",
   "name": "python3"
  },
  "language_info": {
   "codemirror_mode": {
    "name": "ipython",
    "version": 3
   },
   "file_extension": ".py",
   "mimetype": "text/x-python",
   "name": "python",
   "nbconvert_exporter": "python",
   "pygments_lexer": "ipython3",
   "version": "3.10.6"
  }
 },
 "nbformat": 4,
 "nbformat_minor": 5
}
